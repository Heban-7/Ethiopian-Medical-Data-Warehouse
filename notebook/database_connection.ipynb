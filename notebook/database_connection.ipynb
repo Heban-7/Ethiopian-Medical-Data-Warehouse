{
 "cells": [
  {
   "cell_type": "markdown",
   "metadata": {},
   "source": [
    "# Connect to Database"
   ]
  },
  {
   "cell_type": "code",
   "execution_count": 1,
   "metadata": {},
   "outputs": [],
   "source": [
    "# import basic module\n",
    "import pandas as pd\n",
    "import os, sys\n",
    "import warnings\n",
    "warnings.filterwarnings('ignore')\n",
    "\n",
    "# get working directory\n",
    "sys.path.append(os.path.abspath('..'))\n",
    "\n",
    "import scripts.database_setup as db"
   ]
  },
  {
   "cell_type": "markdown",
   "metadata": {},
   "source": [
    "**Connection with PostgreSQL** "
   ]
  },
  {
   "cell_type": "code",
   "execution_count": 2,
   "metadata": {},
   "outputs": [
    {
     "name": "stderr",
     "output_type": "stream",
     "text": [
      "2025-02-02 13:41:41,427 - INFO - Successfully connected to the PostgreSQL.\n"
     ]
    }
   ],
   "source": [
    "engine = db.get_database_connection()"
   ]
  },
  {
   "cell_type": "markdown",
   "metadata": {},
   "source": [
    "**Create table in PostgreSQL**"
   ]
  },
  {
   "cell_type": "code",
   "execution_count": 3,
   "metadata": {},
   "outputs": [
    {
     "name": "stderr",
     "output_type": "stream",
     "text": [
      "2025-02-02 13:41:41,435 - INFO - Table 'Telegram_Medical_Message' created succussfully\n"
     ]
    }
   ],
   "source": [
    "db.create_table(engine)"
   ]
  },
  {
   "cell_type": "markdown",
   "metadata": {},
   "source": [
    "**Insert data into database**"
   ]
  },
  {
   "cell_type": "code",
   "execution_count": 4,
   "metadata": {},
   "outputs": [
    {
     "data": {
      "text/html": [
       "<div>\n",
       "<style scoped>\n",
       "    .dataframe tbody tr th:only-of-type {\n",
       "        vertical-align: middle;\n",
       "    }\n",
       "\n",
       "    .dataframe tbody tr th {\n",
       "        vertical-align: top;\n",
       "    }\n",
       "\n",
       "    .dataframe thead th {\n",
       "        text-align: right;\n",
       "    }\n",
       "</style>\n",
       "<table border=\"1\" class=\"dataframe\">\n",
       "  <thead>\n",
       "    <tr style=\"text-align: right;\">\n",
       "      <th></th>\n",
       "      <th>channel_title</th>\n",
       "      <th>channel_username</th>\n",
       "      <th>message_id</th>\n",
       "      <th>message</th>\n",
       "      <th>message_date</th>\n",
       "      <th>emoji_used</th>\n",
       "      <th>youtube_links</th>\n",
       "    </tr>\n",
       "  </thead>\n",
       "  <tbody>\n",
       "    <tr>\n",
       "      <th>0</th>\n",
       "      <td>CheMed</td>\n",
       "      <td>@CheMed123</td>\n",
       "      <td>97</td>\n",
       "      <td>️Notice! Dear esteemed customers, Due to four-...</td>\n",
       "      <td>2023-02-10 12:23:06+00:00</td>\n",
       "      <td>⚠🔅🔅</td>\n",
       "      <td>No YouTube Link</td>\n",
       "    </tr>\n",
       "    <tr>\n",
       "      <th>1</th>\n",
       "      <td>CheMed</td>\n",
       "      <td>@CheMed123</td>\n",
       "      <td>96</td>\n",
       "      <td>Mela-One በውስጡ ሆርሞን ያለው ድንገተኛ ወሊድ መቆጣጠርያ ሲሆን ያለ...</td>\n",
       "      <td>2023-02-02 08:58:52+00:00</td>\n",
       "      <td>📌</td>\n",
       "      <td>No YouTube Link</td>\n",
       "    </tr>\n",
       "    <tr>\n",
       "      <th>2</th>\n",
       "      <td>CheMed</td>\n",
       "      <td>@CheMed123</td>\n",
       "      <td>95</td>\n",
       "      <td>አዚትሮማይሲን በሃኪም መድሃኒት ማዘዣ ከሚታዘዙ አንቲባዮቲኮች አንዱ ሲሆን...</td>\n",
       "      <td>2023-02-01 08:59:37+00:00</td>\n",
       "      <td>📌</td>\n",
       "      <td>No YouTube Link</td>\n",
       "    </tr>\n",
       "    <tr>\n",
       "      <th>3</th>\n",
       "      <td>CheMed</td>\n",
       "      <td>@CheMed123</td>\n",
       "      <td>94</td>\n",
       "      <td>Che-Med Trivia #3 ምግብና መጠጦች አንዳንድ መድሃኒቶች በደንብ ...</td>\n",
       "      <td>2023-01-31 09:19:53+00:00</td>\n",
       "      <td>No Emoji</td>\n",
       "      <td>No YouTube Link</td>\n",
       "    </tr>\n",
       "    <tr>\n",
       "      <th>4</th>\n",
       "      <td>CheMed</td>\n",
       "      <td>@CheMed123</td>\n",
       "      <td>93</td>\n",
       "      <td>Che-Med Trivia #2 እንደ Ciprofloxacin, Doxycycli...</td>\n",
       "      <td>2023-01-30 09:45:25+00:00</td>\n",
       "      <td>No Emoji</td>\n",
       "      <td>No YouTube Link</td>\n",
       "    </tr>\n",
       "  </tbody>\n",
       "</table>\n",
       "</div>"
      ],
      "text/plain": [
       "  channel_title channel_username  message_id  \\\n",
       "0        CheMed       @CheMed123          97   \n",
       "1        CheMed       @CheMed123          96   \n",
       "2        CheMed       @CheMed123          95   \n",
       "3        CheMed       @CheMed123          94   \n",
       "4        CheMed       @CheMed123          93   \n",
       "\n",
       "                                             message  \\\n",
       "0  ️Notice! Dear esteemed customers, Due to four-...   \n",
       "1  Mela-One በውስጡ ሆርሞን ያለው ድንገተኛ ወሊድ መቆጣጠርያ ሲሆን ያለ...   \n",
       "2  አዚትሮማይሲን በሃኪም መድሃኒት ማዘዣ ከሚታዘዙ አንቲባዮቲኮች አንዱ ሲሆን...   \n",
       "3  Che-Med Trivia #3 ምግብና መጠጦች አንዳንድ መድሃኒቶች በደንብ ...   \n",
       "4  Che-Med Trivia #2 እንደ Ciprofloxacin, Doxycycli...   \n",
       "\n",
       "               message_date emoji_used    youtube_links  \n",
       "0 2023-02-10 12:23:06+00:00        ⚠🔅🔅  No YouTube Link  \n",
       "1 2023-02-02 08:58:52+00:00          📌  No YouTube Link  \n",
       "2 2023-02-01 08:59:37+00:00          📌  No YouTube Link  \n",
       "3 2023-01-31 09:19:53+00:00   No Emoji  No YouTube Link  \n",
       "4 2023-01-30 09:45:25+00:00   No Emoji  No YouTube Link  "
      ]
     },
     "execution_count": 4,
     "metadata": {},
     "output_type": "execute_result"
    }
   ],
   "source": [
    "# load processed data \n",
    "processed_df = pd.read_csv('../data/preprocessed_telegram_data.csv', parse_dates=['message_date'])\n",
    "processed_df.head()"
   ]
  },
  {
   "cell_type": "code",
   "execution_count": 5,
   "metadata": {},
   "outputs": [
    {
     "data": {
      "text/plain": [
       "channel_title        0\n",
       "channel_username     0\n",
       "message_id           0\n",
       "message             35\n",
       "message_date         0\n",
       "emoji_used           0\n",
       "youtube_links        0\n",
       "dtype: int64"
      ]
     },
     "execution_count": 5,
     "metadata": {},
     "output_type": "execute_result"
    }
   ],
   "source": [
    "# check for missing value\n",
    "processed_df.isnull().sum()"
   ]
  },
  {
   "cell_type": "code",
   "execution_count": 6,
   "metadata": {},
   "outputs": [
    {
     "data": {
      "text/plain": [
       "channel_title       0\n",
       "channel_username    0\n",
       "message_id          0\n",
       "message             0\n",
       "message_date        0\n",
       "emoji_used          0\n",
       "youtube_links       0\n",
       "dtype: int64"
      ]
     },
     "execution_count": 6,
     "metadata": {},
     "output_type": "execute_result"
    }
   ],
   "source": [
    "# drop missing Value in messages\n",
    "processed_df.dropna(subset=['message'], inplace=True)\n",
    "processed_df.isnull().sum()"
   ]
  },
  {
   "cell_type": "code",
   "execution_count": 7,
   "metadata": {},
   "outputs": [
    {
     "name": "stderr",
     "output_type": "stream",
     "text": [
      "2025-02-02 13:41:42,101 - INFO - 1781 records inserted into PostgreSQL database.\n"
     ]
    }
   ],
   "source": [
    "# Inser Cleaned datan into database\n",
    "db.insert_data(engine, processed_df)"
   ]
  },
  {
   "cell_type": "markdown",
   "metadata": {},
   "source": [
    "## Verify inserted data"
   ]
  },
  {
   "cell_type": "code",
   "execution_count": 10,
   "metadata": {},
   "outputs": [
    {
     "data": {
      "text/html": [
       "<div>\n",
       "<style scoped>\n",
       "    .dataframe tbody tr th:only-of-type {\n",
       "        vertical-align: middle;\n",
       "    }\n",
       "\n",
       "    .dataframe tbody tr th {\n",
       "        vertical-align: top;\n",
       "    }\n",
       "\n",
       "    .dataframe thead th {\n",
       "        text-align: right;\n",
       "    }\n",
       "</style>\n",
       "<table border=\"1\" class=\"dataframe\">\n",
       "  <thead>\n",
       "    <tr style=\"text-align: right;\">\n",
       "      <th></th>\n",
       "      <th>id</th>\n",
       "      <th>channel_title</th>\n",
       "      <th>channel_username</th>\n",
       "      <th>message_id</th>\n",
       "      <th>message</th>\n",
       "      <th>message_date</th>\n",
       "      <th>emoji_used</th>\n",
       "      <th>youtube_links</th>\n",
       "    </tr>\n",
       "  </thead>\n",
       "  <tbody>\n",
       "    <tr>\n",
       "      <th>0</th>\n",
       "      <td>1</td>\n",
       "      <td>CheMed</td>\n",
       "      <td>@CheMed123</td>\n",
       "      <td>97</td>\n",
       "      <td>️Notice! Dear esteemed customers, Due to four-...</td>\n",
       "      <td>2023-02-10 12:23:06</td>\n",
       "      <td>⚠🔅🔅</td>\n",
       "      <td>No YouTube Link</td>\n",
       "    </tr>\n",
       "    <tr>\n",
       "      <th>1</th>\n",
       "      <td>2</td>\n",
       "      <td>CheMed</td>\n",
       "      <td>@CheMed123</td>\n",
       "      <td>96</td>\n",
       "      <td>Mela-One በውስጡ ሆርሞን ያለው ድንገተኛ ወሊድ መቆጣጠርያ ሲሆን ያለ...</td>\n",
       "      <td>2023-02-02 08:58:52</td>\n",
       "      <td>📌</td>\n",
       "      <td>No YouTube Link</td>\n",
       "    </tr>\n",
       "    <tr>\n",
       "      <th>2</th>\n",
       "      <td>3</td>\n",
       "      <td>CheMed</td>\n",
       "      <td>@CheMed123</td>\n",
       "      <td>95</td>\n",
       "      <td>አዚትሮማይሲን በሃኪም መድሃኒት ማዘዣ ከሚታዘዙ አንቲባዮቲኮች አንዱ ሲሆን...</td>\n",
       "      <td>2023-02-01 08:59:37</td>\n",
       "      <td>📌</td>\n",
       "      <td>No YouTube Link</td>\n",
       "    </tr>\n",
       "    <tr>\n",
       "      <th>3</th>\n",
       "      <td>4</td>\n",
       "      <td>CheMed</td>\n",
       "      <td>@CheMed123</td>\n",
       "      <td>94</td>\n",
       "      <td>Che-Med Trivia #3 ምግብና መጠጦች አንዳንድ መድሃኒቶች በደንብ ...</td>\n",
       "      <td>2023-01-31 09:19:53</td>\n",
       "      <td>No Emoji</td>\n",
       "      <td>No YouTube Link</td>\n",
       "    </tr>\n",
       "    <tr>\n",
       "      <th>4</th>\n",
       "      <td>5</td>\n",
       "      <td>CheMed</td>\n",
       "      <td>@CheMed123</td>\n",
       "      <td>93</td>\n",
       "      <td>Che-Med Trivia #2 እንደ Ciprofloxacin, Doxycycli...</td>\n",
       "      <td>2023-01-30 09:45:25</td>\n",
       "      <td>No Emoji</td>\n",
       "      <td>No YouTube Link</td>\n",
       "    </tr>\n",
       "  </tbody>\n",
       "</table>\n",
       "</div>"
      ],
      "text/plain": [
       "   id channel_title channel_username  message_id  \\\n",
       "0   1        CheMed       @CheMed123          97   \n",
       "1   2        CheMed       @CheMed123          96   \n",
       "2   3        CheMed       @CheMed123          95   \n",
       "3   4        CheMed       @CheMed123          94   \n",
       "4   5        CheMed       @CheMed123          93   \n",
       "\n",
       "                                             message        message_date  \\\n",
       "0  ️Notice! Dear esteemed customers, Due to four-... 2023-02-10 12:23:06   \n",
       "1  Mela-One በውስጡ ሆርሞን ያለው ድንገተኛ ወሊድ መቆጣጠርያ ሲሆን ያለ... 2023-02-02 08:58:52   \n",
       "2  አዚትሮማይሲን በሃኪም መድሃኒት ማዘዣ ከሚታዘዙ አንቲባዮቲኮች አንዱ ሲሆን... 2023-02-01 08:59:37   \n",
       "3  Che-Med Trivia #3 ምግብና መጠጦች አንዳንድ መድሃኒቶች በደንብ ... 2023-01-31 09:19:53   \n",
       "4  Che-Med Trivia #2 እንደ Ciprofloxacin, Doxycycli... 2023-01-30 09:45:25   \n",
       "\n",
       "  emoji_used    youtube_links  \n",
       "0        ⚠🔅🔅  No YouTube Link  \n",
       "1          📌  No YouTube Link  \n",
       "2          📌  No YouTube Link  \n",
       "3   No Emoji  No YouTube Link  \n",
       "4   No Emoji  No YouTube Link  "
      ]
     },
     "execution_count": 10,
     "metadata": {},
     "output_type": "execute_result"
    }
   ],
   "source": [
    "query = \"SELECT * FROM telegram_medical_message LIMIT 5\"\n",
    "pg_df = pd.read_sql(query, engine)\n",
    "pg_df"
   ]
  },
  {
   "cell_type": "code",
   "execution_count": null,
   "metadata": {},
   "outputs": [],
   "source": []
  }
 ],
 "metadata": {
  "kernelspec": {
   "display_name": ".venv",
   "language": "python",
   "name": "python3"
  },
  "language_info": {
   "codemirror_mode": {
    "name": "ipython",
    "version": 3
   },
   "file_extension": ".py",
   "mimetype": "text/x-python",
   "name": "python",
   "nbconvert_exporter": "python",
   "pygments_lexer": "ipython3",
   "version": "3.11.9"
  }
 },
 "nbformat": 4,
 "nbformat_minor": 2
}
